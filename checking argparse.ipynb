{
 "cells": [
  {
   "cell_type": "code",
   "execution_count": 1,
   "id": "129a2263",
   "metadata": {},
   "outputs": [],
   "source": [
    "%load_ext autoreload\n",
    "%autoreload 2"
   ]
  },
  {
   "cell_type": "code",
   "execution_count": 2,
   "id": "0a8d2c9c",
   "metadata": {},
   "outputs": [],
   "source": [
    "import argparse\n",
    "from pprint import pprint"
   ]
  },
  {
   "cell_type": "code",
   "execution_count": 3,
   "id": "14f35b23",
   "metadata": {},
   "outputs": [],
   "source": [
    "parser = argparse.ArgumentParser(description=\"\")"
   ]
  },
  {
   "cell_type": "code",
   "execution_count": 4,
   "id": "55088670",
   "metadata": {},
   "outputs": [
    {
     "data": {
      "text/plain": [
       "_StoreAction(option_strings=['--use_faiss'], dest='use_faiss', nargs=None, const=None, default=False, type=<class 'bool'>, choices=None, help='', metavar=False)"
      ]
     },
     "execution_count": 4,
     "metadata": {},
     "output_type": "execute_result"
    }
   ],
   "source": [
    "parser.add_argument(\n",
    "    \"--retrieval_config\",\n",
    "    default=\"./config/retrieval_config.json\",\n",
    "    metavar=\"./config/retrieval_config.json\", type=str, help=\"\"\n",
    ")\n",
    "parser.add_argument(\n",
    "    \"--dataset_name\", default = \"./data/train_dataset\",\n",
    "    metavar=\"./data/train_dataset\", type=str, help=\"\"\n",
    ")\n",
    "parser.add_argument(\n",
    "    \"--model_name_or_path\",\n",
    "    default =\"bert-base-multilingual-cased\",\n",
    "    metavar=\"bert-base-multilingual-cased\",\n",
    "    type=str,\n",
    "    help=\"\",\n",
    ")\n",
    "parser.add_argument(\"--data_path\",default = \"./data\",\n",
    "                    metavar=\"./data\", type=str, help=\"\")\n",
    "parser.add_argument(\n",
    "    \"--context_path\",\n",
    "    default = \"wikipedia_documents\",\n",
    "    metavar=\"wikipedia_documents\", type=str, help=\"\"\n",
    ")\n",
    "parser.add_argument(\"--use_faiss\", default=False, metavar=False, type=bool, help=\"\")\n"
   ]
  },
  {
   "cell_type": "code",
   "execution_count": 5,
   "id": "1ba2c79b",
   "metadata": {},
   "outputs": [],
   "source": [
    "args = parser.parse_args([])"
   ]
  },
  {
   "cell_type": "code",
   "execution_count": 6,
   "id": "12ecd9f9",
   "metadata": {},
   "outputs": [
    {
     "data": {
      "text/plain": [
       "{'retrieval_config': './config/retrieval_config.json',\n",
       " 'dataset_name': './data/train_dataset',\n",
       " 'model_name_or_path': 'bert-base-multilingual-cased',\n",
       " 'data_path': './data',\n",
       " 'context_path': 'wikipedia_documents',\n",
       " 'use_faiss': False}"
      ]
     },
     "execution_count": 6,
     "metadata": {},
     "output_type": "execute_result"
    }
   ],
   "source": [
    "vars(args)"
   ]
  },
  {
   "cell_type": "code",
   "execution_count": 7,
   "id": "9f7aa7a9",
   "metadata": {},
   "outputs": [
    {
     "data": {
      "text/plain": [
       "'./config/retrieval_config.json'"
      ]
     },
     "execution_count": 7,
     "metadata": {},
     "output_type": "execute_result"
    }
   ],
   "source": [
    "args.retrieval_config"
   ]
  },
  {
   "cell_type": "code",
   "execution_count": 8,
   "id": "027b7d50",
   "metadata": {},
   "outputs": [],
   "source": [
    "# import utils\n",
    "# from utils.utils_config import read_json\n",
    "import utils"
   ]
  },
  {
   "cell_type": "code",
   "execution_count": 9,
   "id": "5cdc859c",
   "metadata": {},
   "outputs": [
    {
     "ename": "ImportError",
     "evalue": "cannot import name 'read_json' from 'utils' (unknown location)",
     "output_type": "error",
     "traceback": [
      "\u001b[0;31m---------------------------------------------------------------------------\u001b[0m",
      "\u001b[0;31mImportError\u001b[0m                               Traceback (most recent call last)",
      "Input \u001b[0;32mIn [9]\u001b[0m, in \u001b[0;36m<cell line: 1>\u001b[0;34m()\u001b[0m\n\u001b[0;32m----> 1\u001b[0m \u001b[38;5;28;01mfrom\u001b[39;00m \u001b[38;5;21;01mutils\u001b[39;00m \u001b[38;5;28;01mimport\u001b[39;00m read_json\n",
      "\u001b[0;31mImportError\u001b[0m: cannot import name 'read_json' from 'utils' (unknown location)"
     ]
    }
   ],
   "source": [
    "from utils import read_json"
   ]
  },
  {
   "cell_type": "code",
   "execution_count": 40,
   "id": "458c5202",
   "metadata": {},
   "outputs": [],
   "source": [
    "from inspect import getmembers, isfunction"
   ]
  },
  {
   "cell_type": "code",
   "execution_count": 41,
   "id": "219a2d93",
   "metadata": {},
   "outputs": [
    {
     "data": {
      "text/plain": [
       "['__doc__',\n",
       " '__file__',\n",
       " '__loader__',\n",
       " '__name__',\n",
       " '__package__',\n",
       " '__path__',\n",
       " '__spec__']"
      ]
     },
     "execution_count": 41,
     "metadata": {},
     "output_type": "execute_result"
    }
   ],
   "source": [
    "dir(utils)"
   ]
  },
  {
   "cell_type": "code",
   "execution_count": 31,
   "id": "c544ff56",
   "metadata": {},
   "outputs": [],
   "source": [
    "utils.__doc__"
   ]
  },
  {
   "cell_type": "code",
   "execution_count": null,
   "id": "30b1f92b",
   "metadata": {},
   "outputs": [],
   "source": [
    "config = utils.read_json(args.retrieval_config)"
   ]
  },
  {
   "cell_type": "code",
   "execution_count": 42,
   "id": "81e4a2a6",
   "metadata": {},
   "outputs": [
    {
     "name": "stdout",
     "output_type": "stream",
     "text": [
      "['/opt/ml/input/code', '/opt/conda/envs/py38/lib/python38.zip', '/opt/conda/envs/py38/lib/python3.8', '/opt/conda/envs/py38/lib/python3.8/lib-dynload', '', '/opt/conda/envs/py38/lib/python3.8/site-packages']\n"
     ]
    }
   ],
   "source": [
    "import os\n",
    "import sys\n",
    "print(sys.path)"
   ]
  },
  {
   "cell_type": "code",
   "execution_count": 10,
   "id": "d8ee00cc",
   "metadata": {},
   "outputs": [],
   "source": [
    "import utils"
   ]
  },
  {
   "cell_type": "code",
   "execution_count": 44,
   "id": "7a22ff68",
   "metadata": {},
   "outputs": [
    {
     "data": {
      "text/plain": [
       "['__doc__',\n",
       " '__file__',\n",
       " '__loader__',\n",
       " '__name__',\n",
       " '__package__',\n",
       " '__path__',\n",
       " '__spec__']"
      ]
     },
     "execution_count": 44,
     "metadata": {},
     "output_type": "execute_result"
    }
   ],
   "source": [
    "dir(utils)"
   ]
  },
  {
   "cell_type": "code",
   "execution_count": null,
   "id": "5f87b991",
   "metadata": {},
   "outputs": [],
   "source": []
  }
 ],
 "metadata": {
  "kernelspec": {
   "display_name": "py38",
   "language": "python",
   "name": "py38"
  },
  "language_info": {
   "codemirror_mode": {
    "name": "ipython",
    "version": 3
   },
   "file_extension": ".py",
   "mimetype": "text/x-python",
   "name": "python",
   "nbconvert_exporter": "python",
   "pygments_lexer": "ipython3",
   "version": "3.8.13"
  }
 },
 "nbformat": 4,
 "nbformat_minor": 5
}
