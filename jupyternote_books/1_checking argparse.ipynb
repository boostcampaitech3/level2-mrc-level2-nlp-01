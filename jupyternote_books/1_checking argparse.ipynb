{
 "cells": [
  {
   "cell_type": "code",
   "execution_count": 1,
   "id": "129a2263",
   "metadata": {},
   "outputs": [],
   "source": [
    "%load_ext autoreload\n",
    "%autoreload 2"
   ]
  },
  {
   "cell_type": "code",
   "execution_count": 2,
   "id": "0a8d2c9c",
   "metadata": {},
   "outputs": [],
   "source": [
    "import argparse\n",
    "from pprint import pprint"
   ]
  },
  {
   "cell_type": "code",
   "execution_count": 3,
   "id": "14f35b23",
   "metadata": {},
   "outputs": [],
   "source": [
    "parser = argparse.ArgumentParser(description=\"\")"
   ]
  },
  {
   "cell_type": "code",
   "execution_count": 4,
   "id": "55088670",
   "metadata": {},
   "outputs": [
    {
     "data": {
      "text/plain": [
       "_StoreAction(option_strings=['--use_faiss'], dest='use_faiss', nargs=None, const=None, default=False, type=<class 'bool'>, choices=None, help='', metavar=False)"
      ]
     },
     "execution_count": 4,
     "metadata": {},
     "output_type": "execute_result"
    }
   ],
   "source": [
    "parser.add_argument(\n",
    "    \"--retrieval_config\",\n",
    "    default=\"./config/retrieval_config.json\",\n",
    "    metavar=\"./config/retrieval_config.json\", type=str, help=\"\"\n",
    ")\n",
    "parser.add_argument(\n",
    "    \"--dataset_name\", default = \"./data/train_dataset\",\n",
    "    metavar=\"./data/train_dataset\", type=str, help=\"\"\n",
    ")\n",
    "parser.add_argument(\n",
    "    \"--model_name_or_path\",\n",
    "    default =\"bert-base-multilingual-cased\",\n",
    "    metavar=\"bert-base-multilingual-cased\",\n",
    "    type=str,\n",
    "    help=\"\",\n",
    ")\n",
    "parser.add_argument(\"--data_path\",default = \"./data\",\n",
    "                    metavar=\"./data\", type=str, help=\"\")\n",
    "parser.add_argument(\n",
    "    \"--context_path\",\n",
    "    default = \"wikipedia_documents\",\n",
    "    metavar=\"wikipedia_documents\", type=str, help=\"\"\n",
    ")\n",
    "parser.add_argument(\"--use_faiss\", default=False, metavar=False, type=bool, help=\"\")\n"
   ]
  },
  {
   "cell_type": "code",
   "execution_count": 5,
   "id": "1ba2c79b",
   "metadata": {},
   "outputs": [],
   "source": [
    "args = parser.parse_args([])"
   ]
  },
  {
   "cell_type": "code",
   "execution_count": 6,
   "id": "12ecd9f9",
   "metadata": {},
   "outputs": [
    {
     "data": {
      "text/plain": [
       "{'retrieval_config': './config/retrieval_config.json',\n",
       " 'dataset_name': './data/train_dataset',\n",
       " 'model_name_or_path': 'bert-base-multilingual-cased',\n",
       " 'data_path': './data',\n",
       " 'context_path': 'wikipedia_documents',\n",
       " 'use_faiss': False}"
      ]
     },
     "execution_count": 6,
     "metadata": {},
     "output_type": "execute_result"
    }
   ],
   "source": [
    "vars(args)"
   ]
  },
  {
   "cell_type": "code",
   "execution_count": 7,
   "id": "9f7aa7a9",
   "metadata": {},
   "outputs": [
    {
     "data": {
      "text/plain": [
       "'./config/retrieval_config.json'"
      ]
     },
     "execution_count": 7,
     "metadata": {},
     "output_type": "execute_result"
    }
   ],
   "source": [
    "args.retrieval_config"
   ]
  },
  {
   "cell_type": "code",
   "execution_count": 9,
   "id": "4227eb63",
   "metadata": {},
   "outputs": [],
   "source": [
    "import utils"
   ]
  },
  {
   "cell_type": "code",
   "execution_count": 10,
   "id": "5f87b991",
   "metadata": {},
   "outputs": [],
   "source": [
    "config = utils.read_json(args.retrieval_config)"
   ]
  },
  {
   "cell_type": "code",
   "execution_count": 11,
   "id": "355ab85e",
   "metadata": {},
   "outputs": [],
   "source": [
    "parser.set_defaults(**config)"
   ]
  },
  {
   "cell_type": "code",
   "execution_count": 12,
   "id": "113f8333",
   "metadata": {},
   "outputs": [
    {
     "name": "stdout",
     "output_type": "stream",
     "text": [
      "{'config_retrieval': './config/retrieval_config.json',\n",
      " 'context_path': 'wikipedia_documents',\n",
      " 'data_path': './hello',\n",
      " 'dataset_name': './data/train_dataset',\n",
      " 'model_name_or_path': 'bert-base-multilingual-cased',\n",
      " 'use_faiss': False}\n"
     ]
    }
   ],
   "source": [
    "pprint(parser._defaults)"
   ]
  },
  {
   "cell_type": "code",
   "execution_count": 13,
   "id": "2d0fabb3",
   "metadata": {},
   "outputs": [],
   "source": [
    "args = parser.parse_args(['--context_path', 'hahahha'])"
   ]
  },
  {
   "cell_type": "code",
   "execution_count": 17,
   "id": "97e7e536",
   "metadata": {},
   "outputs": [
    {
     "data": {
      "text/plain": [
       "{'retrieval_config': './config/retrieval_config.json',\n",
       " 'dataset_name': './data/train_dataset',\n",
       " 'model_name_or_path': 'bert-base-multilingual-cased',\n",
       " 'data_path': './hello',\n",
       " 'context_path': 'hahahha',\n",
       " 'use_faiss': False,\n",
       " 'config_retrieval': './config/retrieval_config.json'}"
      ]
     },
     "execution_count": 17,
     "metadata": {},
     "output_type": "execute_result"
    }
   ],
   "source": [
    "vars(args)"
   ]
  },
  {
   "cell_type": "code",
   "execution_count": 18,
   "id": "ddef8f26",
   "metadata": {},
   "outputs": [
    {
     "data": {
      "text/plain": [
       "'hahahha'"
      ]
     },
     "execution_count": 18,
     "metadata": {},
     "output_type": "execute_result"
    }
   ],
   "source": [
    "args.context_path"
   ]
  },
  {
   "cell_type": "code",
   "execution_count": 21,
   "id": "80c119b0",
   "metadata": {},
   "outputs": [
    {
     "name": "stdout",
     "output_type": "stream",
     "text": [
      "{'config_retrieval': './config/retrieval_config.json',\n",
      " 'context_path': 'hahahha',\n",
      " 'data_path': './hello',\n",
      " 'dataset_name': './data/train_dataset',\n",
      " 'model_name_or_path': 'bert-base-multilingual-cased',\n",
      " 'retrieval_config': './config/retrieval_config.json',\n",
      " 'use_faiss': False}\n"
     ]
    }
   ],
   "source": [
    "pprint(vars(args))"
   ]
  },
  {
   "cell_type": "code",
   "execution_count": null,
   "id": "1043bb7b",
   "metadata": {},
   "outputs": [],
   "source": []
  }
 ],
 "metadata": {
  "kernelspec": {
   "display_name": "py38",
   "language": "python",
   "name": "py38"
  },
  "language_info": {
   "codemirror_mode": {
    "name": "ipython",
    "version": 3
   },
   "file_extension": ".py",
   "mimetype": "text/x-python",
   "name": "python",
   "nbconvert_exporter": "python",
   "pygments_lexer": "ipython3",
   "version": "3.8.13"
  }
 },
 "nbformat": 4,
 "nbformat_minor": 5
}
